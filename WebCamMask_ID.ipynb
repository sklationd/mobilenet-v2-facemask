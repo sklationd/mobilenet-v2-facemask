{
  "nbformat": 4,
  "nbformat_minor": 0,
  "metadata": {
    "colab": {
      "name": "WebCamMask_ID",
      "private_outputs": true,
      "provenance": [],
      "collapsed_sections": [
        "pIhvoWJxqDNx"
      ],
      "include_colab_link": true
    },
    "kernelspec": {
      "name": "python3",
      "display_name": "Python 3"
    },
    "accelerator": "GPU"
  },
  "cells": [
    {
      "cell_type": "markdown",
      "metadata": {
        "id": "view-in-github",
        "colab_type": "text"
      },
      "source": [
        "<a href=\"https://colab.research.google.com/github/sklationd/mobilenet-v2-facemask/blob/main/WebCamMask_ID.ipynb\" target=\"_parent\"><img src=\"https://colab.research.google.com/assets/colab-badge.svg\" alt=\"Open In Colab\"/></a>"
      ]
    },
    {
      "cell_type": "markdown",
      "metadata": {
        "id": "SgtbQ7qiS8kF"
      },
      "source": [
        "# **Mask Evaluator with Own Webcam ~(MEOW 🐈)~**\n",
        "\n",
        "1. There is nothing to worry about. Just press `Runtime` - `Execute All` in menu bar or `Ctrl/Command + F9`\n",
        "2. Allow colab to access your webcam.\n",
        "3. We do not save your webcam image stream. Don't worry about it.\n",
        "\n",
        "<font color=\"red\">**Our model is not robust to various environment and mask color. It will perform better performance if you wear a `blue/white` mask and background is `clear`.** </font>\n",
        "\n"
      ]
    },
    {
      "cell_type": "markdown",
      "metadata": {
        "id": "7Loy5wbkTsuC"
      },
      "source": [
        "# 0. Initialize"
      ]
    },
    {
      "cell_type": "code",
      "metadata": {
        "id": "6wQNZzAyK3Tc"
      },
      "source": [
        "import numpy as np\n",
        "import torchvision\n",
        "from torchvision import transforms, datasets, models\n",
        "import torch\n",
        "from PIL import Image\n",
        "from pathlib import Path\n",
        "import os\n",
        "import io\n",
        "import cv2\n",
        "import torch.nn.functional as F\n",
        "import base64\n",
        "import html\n",
        "import time\n",
        "from IPython.display import display, Javascript\n",
        "from google.colab.output import eval_js"
      ],
      "execution_count": null,
      "outputs": []
    },
    {
      "cell_type": "code",
      "metadata": {
        "id": "W1KBE8MaLGY0"
      },
      "source": [
        "# Check whether GPU is enabled or not\n",
        "\n",
        "device = torch.device('cuda') if torch.cuda.is_available() else torch.device('cpu')\n",
        "if torch.cuda.is_available():\n",
        "  print(\"GPU is available\")\n",
        "else:\n",
        "  print(\"GPU is not available. Please enable GPU in Runtime - Change runtime type GPU \")\n",
        "  exit()"
      ],
      "execution_count": null,
      "outputs": []
    },
    {
      "cell_type": "code",
      "metadata": {
        "id": "YP_FC6jvLIP8"
      },
      "source": [
        "# Download weight\n",
        "'''\n",
        "It may fail due to download limit of google drive.\n",
        "If you encounter this issue, please let me know by below contact.\n",
        "sklationd@gmail.com\n",
        "''' \n",
        "!wget -nc --no-check-certificate 'https://docs.google.com/uc?export=download&id=1QHrOBzc4yZWCfC1P2AirWtjNvDKjAbe8' -O scripted_best.pt"
      ],
      "execution_count": null,
      "outputs": []
    },
    {
      "cell_type": "code",
      "metadata": {
        "id": "efhgwZNQTzoG"
      },
      "source": [
        "# Helper function \n",
        "\n",
        "labels = [ \"No Mask\", \"Correct Mask\", \"Only Chin is Covered\", \"Nose is not covered\", \"Chin is not covered\",]\n",
        "\n",
        "def getLabel(scores):\n",
        "  maxScore = -np.Inf\n",
        "  maxScoreIdx = -1;\n",
        "  for i in range(len(scores)):\n",
        "    if scores[i] > maxScore :\n",
        "      maxScore = scores[i]\n",
        "      maxScoreIdx = i\n",
        "  return labels[maxScoreIdx]\n",
        "\n",
        "def getColor(label):\n",
        "  if label == labels[1]:\n",
        "    return [63,141,60]\n",
        "  else:\n",
        "    return [255,0,0]"
      ],
      "execution_count": null,
      "outputs": []
    },
    {
      "cell_type": "markdown",
      "metadata": {
        "id": "rex6xev5qP-G"
      },
      "source": [
        "# 1. Define Js and Webcam Functions"
      ]
    },
    {
      "cell_type": "code",
      "metadata": {
        "id": "7OYmjeF-edKE"
      },
      "source": [
        "\n",
        "def start_input():\n",
        "  js = Javascript('''\n",
        "    var video;\n",
        "    var div = null;\n",
        "    var stream;\n",
        "    var captureCanvas;\n",
        "    var imgElement;\n",
        "    var labelElement;\n",
        "    \n",
        "    var pendingResolve = null;\n",
        "    var shutdown = false;\n",
        "    \n",
        "    function removeDom() {\n",
        "       stream.getVideoTracks()[0].stop();\n",
        "       video.remove();\n",
        "       div.remove();\n",
        "       video = null;\n",
        "       div = null;\n",
        "       stream = null;\n",
        "       imgElement = null;\n",
        "       captureCanvas = null;\n",
        "       labelElement = null;\n",
        "    }\n",
        "    \n",
        "    function onAnimationFrame() {\n",
        "      if (!shutdown) {\n",
        "        window.requestAnimationFrame(onAnimationFrame);\n",
        "      }\n",
        "      if (pendingResolve) {\n",
        "        var result = \"\";\n",
        "        if (!shutdown) {\n",
        "          captureCanvas.getContext('2d').drawImage(video, 0, 0, 512, 512);\n",
        "          result = captureCanvas.toDataURL('image/jpeg', 0.8)\n",
        "        }\n",
        "        var lp = pendingResolve;\n",
        "        pendingResolve = null;\n",
        "        lp(result);\n",
        "      }\n",
        "    }\n",
        "    \n",
        "    async function createDom() {\n",
        "      if (div !== null) {\n",
        "        return stream;\n",
        "      }\n",
        "\n",
        "      div = document.createElement('div');\n",
        "      div.style.border = '2px solid black';\n",
        "      div.style.padding = '3px';\n",
        "      div.style.width = '100%';\n",
        "      div.style.maxWidth = '600px';\n",
        "      document.body.appendChild(div);\n",
        "      \n",
        "      const modelOut = document.createElement('div');\n",
        "      modelOut.innerHTML = \"<span>Status:</span>\";\n",
        "      labelElement = document.createElement('span');\n",
        "      labelElement.innerText = 'No data';\n",
        "      labelElement.style.fontWeight = 'bold';\n",
        "      modelOut.appendChild(labelElement);\n",
        "      div.appendChild(modelOut);\n",
        "           \n",
        "      video = document.createElement('video');\n",
        "      video.style.display = 'block';\n",
        "      video.width = div.clientWidth - 6;\n",
        "      video.setAttribute('playsinline', '');\n",
        "      video.onclick = () => { shutdown = true; };\n",
        "      stream = await navigator.mediaDevices.getUserMedia(\n",
        "          {video: { facingMode: \"environment\"}});\n",
        "      div.appendChild(video);\n",
        "\n",
        "      imgElement = document.createElement('img');\n",
        "      imgElement.style.position = 'absolute';\n",
        "      imgElement.style.zIndex = 1;\n",
        "      imgElement.onclick = () => { shutdown = true; };\n",
        "      div.appendChild(imgElement);\n",
        "      \n",
        "      const instruction = document.createElement('div');\n",
        "      instruction.innerHTML = \n",
        "          '<span style=\"color: red; font-weight: bold;\">' +\n",
        "          'When finished, click here or on the video to stop this demo</span>';\n",
        "      div.appendChild(instruction);\n",
        "      instruction.onclick = () => { shutdown = true; };\n",
        "      \n",
        "      video.srcObject = stream;\n",
        "      await video.play();\n",
        "\n",
        "      captureCanvas = document.createElement('canvas');\n",
        "      captureCanvas.width = 512; //video.videoWidth;\n",
        "      captureCanvas.height = 512; //video.videoHeight;\n",
        "      window.requestAnimationFrame(onAnimationFrame);\n",
        "      \n",
        "      return stream;\n",
        "    }\n",
        "    async function takePhoto(label, imgData) {\n",
        "      if (shutdown) {\n",
        "        removeDom();\n",
        "        shutdown = false;\n",
        "        return '';\n",
        "      }\n",
        "\n",
        "      var preCreate = Date.now();\n",
        "      stream = await createDom();\n",
        "      \n",
        "      var preShow = Date.now();\n",
        "      if (label != \"\") {\n",
        "        labelElement.innerHTML = label;\n",
        "      }\n",
        "            \n",
        "      if (imgData != \"\") {\n",
        "        var videoRect = video.getClientRects()[0];\n",
        "        imgElement.style.top = videoRect.top + \"px\";\n",
        "        imgElement.style.left = videoRect.left + \"px\";\n",
        "        imgElement.style.width = videoRect.width + \"px\";\n",
        "        imgElement.style.height = videoRect.height + \"px\";\n",
        "        imgElement.src = imgData;\n",
        "      }\n",
        "      \n",
        "      var preCapture = Date.now();\n",
        "      var result = await new Promise(function(resolve, reject) {\n",
        "        pendingResolve = resolve;\n",
        "      });\n",
        "      shutdown = false;\n",
        "      \n",
        "      return {'create': preShow - preCreate, \n",
        "              'show': preCapture - preShow, \n",
        "              'capture': Date.now() - preCapture,\n",
        "              'img': result};\n",
        "    }\n",
        "    ''')\n",
        "\n",
        "  display(js)\n",
        "  \n",
        "def take_photo(label, img_data):\n",
        "  data = eval_js('takePhoto(\"{}\", \"{}\")'.format(label, img_data))\n",
        "  return data"
      ],
      "execution_count": null,
      "outputs": []
    },
    {
      "cell_type": "markdown",
      "metadata": {
        "id": "pIhvoWJxqDNx"
      },
      "source": [
        "# 2. Model Inference and Drawing Result"
      ]
    },
    {
      "cell_type": "code",
      "metadata": {
        "id": "L5ETkvXoLaCC"
      },
      "source": [
        "# Preprocess \n",
        "preprocess = transforms.Compose([\n",
        "    transforms.Resize((224,224)),\n",
        "    transforms.ToTensor(),\n",
        "    transforms.Normalize(mean=[0.485, 0.456, 0.406], std=[0.229, 0.224, 0.225]),\n",
        "])\n",
        "\n",
        "# Load model\n",
        "model = torch.jit.load('./scripted_best.pt')\n",
        "model.to(device)\n",
        "model.eval()\n",
        "\n",
        "# Clean output\n",
        "!"
      ],
      "execution_count": null,
      "outputs": []
    },
    {
      "cell_type": "code",
      "metadata": {
        "id": "A0ZgJiQBskDt"
      },
      "source": [
        "def plot_one_box(x, img, color=None, label=None, line_thickness=None):\n",
        "    # Plots one bounding box on image img\n",
        "    tl = line_thickness or round(0.002 * (img.shape[0] + img.shape[1]) / 2) + 1  # line/font thickness\n",
        "    color = color or [random.randint(0, 255) for _ in range(3)]\n",
        "    c1, c2 = (int(x[0]), int(x[1])), (int(x[2]), int(x[3]))\n",
        "    cv2.rectangle(img, c1, c2, color, thickness=tl)\n",
        "    if label:\n",
        "        tf = max(tl - 1, 1)  # font thickness\n",
        "        t_size = cv2.getTextSize(label, 0, fontScale=tl / 3, thickness=tf)[0]\n",
        "        c2 = c1[0] + t_size[0], c1[1] - t_size[1] - 3\n",
        "        cv2.rectangle(img, c1, c2, color, -1)  # filled\n",
        "        cv2.putText(img, label, (c1[0], c1[1] - 2), 2, tl / 3, [225, 255, 255], thickness=tf, lineType=cv2.LINE_AA)\n",
        "\n",
        "\n",
        "def js_reply_to_image(js_reply):\n",
        "    jpeg_bytes = base64.b64decode(js_reply['img'].split(',')[1])\n",
        "    image_PIL = Image.open(io.BytesIO(jpeg_bytes))\n",
        "\n",
        "    return image_PIL\n",
        "\n",
        "def get_drawing_array(image_array): \n",
        "    drawing_array = np.zeros([512,512,4], dtype=np.uint8)\n",
        "    img = preprocess(image_array).to(device)\n",
        "    img = img.unsqueeze(0)\n",
        "    pred = model(img).squeeze()\n",
        "\n",
        "    label = getLabel(pred)\n",
        "    plot_one_box([30,30,482,482], drawing_array, label=label, color=getColor(label), line_thickness=3)\n",
        "\n",
        "    drawing_array[:,:,3] = (drawing_array.max(axis = 2) > 0 ).astype(int) * 255\n",
        "\n",
        "    return drawing_array\n",
        "\n",
        "def drawing_array_to_bytes(drawing_array):\n",
        "    drawing_PIL = Image.fromarray(drawing_array, 'RGBA')\n",
        "    iobuf = io.BytesIO()\n",
        "    drawing_PIL.save(iobuf, format='png')\n",
        "    drawing_bytes = 'data:image/png;base64,{}'.format((str(base64.b64encode(iobuf.getvalue()), 'utf-8')))\n",
        "    return drawing_bytes\n"
      ],
      "execution_count": null,
      "outputs": []
    },
    {
      "cell_type": "markdown",
      "metadata": {
        "id": "iIlKEQ3ruDCw"
      },
      "source": [
        "# 3. Start application"
      ]
    },
    {
      "cell_type": "code",
      "metadata": {
        "id": "hZi6NXSDyAY6"
      },
      "source": [
        "start_input()\n",
        "label_html = 'Capturing...'\n",
        "img_data = ''\n",
        "count = 0 \n",
        "while True:\n",
        "    js_reply = take_photo(label_html, img_data)\n",
        "    if not js_reply:\n",
        "        break\n",
        "    image = js_reply_to_image(js_reply)\n",
        "    drawing_array = get_drawing_array(image) \n",
        "    drawing_bytes = drawing_array_to_bytes(drawing_array)\n",
        "    img_data = drawing_bytes"
      ],
      "execution_count": null,
      "outputs": []
    }
  ]
}